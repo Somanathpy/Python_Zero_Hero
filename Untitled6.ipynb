{
 "cells": [
  {
   "cell_type": "code",
   "execution_count": 1,
   "metadata": {},
   "outputs": [],
   "source": [
    "mylist = [1,2,3]"
   ]
  },
  {
   "cell_type": "code",
   "execution_count": 7,
   "metadata": {},
   "outputs": [
    {
     "name": "stdout",
     "output_type": "stream",
     "text": [
      "2\n",
      "3\n",
      "4\n",
      "5\n",
      "6\n",
      "7\n",
      "8\n",
      "9\n",
      "10\n"
     ]
    }
   ],
   "source": [
    "for num in range(2,11,1):\n",
    "    print(num)"
   ]
  },
  {
   "cell_type": "code",
   "execution_count": 12,
   "metadata": {},
   "outputs": [],
   "source": [
    "mylist = list(range(10,100,10))"
   ]
  },
  {
   "cell_type": "code",
   "execution_count": 13,
   "metadata": {},
   "outputs": [
    {
     "data": {
      "text/plain": [
       "[10, 20, 30, 40, 50, 60, 70, 80, 90]"
      ]
     },
     "execution_count": 13,
     "metadata": {},
     "output_type": "execute_result"
    }
   ],
   "source": [
    "mylist"
   ]
  },
  {
   "cell_type": "code",
   "execution_count": 17,
   "metadata": {},
   "outputs": [
    {
     "name": "stdout",
     "output_type": "stream",
     "text": [
      " At Index 0 the letter is S \n",
      " At Index 1 the letter is o \n",
      " At Index 2 the letter is m \n",
      " At Index 3 the letter is a \n",
      " At Index 4 the letter is n \n",
      " At Index 5 the letter is a \n",
      " At Index 6 the letter is t \n",
      " At Index 7 the letter is h \n"
     ]
    }
   ],
   "source": [
    "index_count = 0\n",
    "\n",
    "for i in 'Somanath':\n",
    "    print(\" At Index {} the letter is {} \".format(index_count,i))\n",
    "    index_count += 1"
   ]
  },
  {
   "cell_type": "code",
   "execution_count": 20,
   "metadata": {},
   "outputs": [
    {
     "name": "stdout",
     "output_type": "stream",
     "text": [
      "0 : S\n",
      "1 : o\n",
      "2 : m\n",
      "3 : a\n",
      "4 : n\n",
      "5 : a\n",
      "6 : t\n",
      "7 : h\n"
     ]
    }
   ],
   "source": [
    "word = \"Somanath\"\n",
    "index_count = 0\n",
    "\n",
    "for letter in word:\n",
    "    print('{} : {}'.format(index_count,letter))\n",
    "    index_count += 1"
   ]
  },
  {
   "cell_type": "code",
   "execution_count": 24,
   "metadata": {},
   "outputs": [
    {
     "name": "stdout",
     "output_type": "stream",
     "text": [
      "0 : s\n",
      "1 : o\n",
      "2 : m\n",
      "3 : a\n",
      "4 : n\n",
      "5 : a\n",
      "6 : t\n",
      "7 : h\n"
     ]
    }
   ],
   "source": [
    "word = \"somanath\"\n",
    "\n",
    "for index,letter in enumerate(word):\n",
    "    print('{} : {}'.format(index,letter))"
   ]
  },
  {
   "cell_type": "code",
   "execution_count": null,
   "metadata": {},
   "outputs": [],
   "source": []
  }
 ],
 "metadata": {
  "kernelspec": {
   "display_name": "Python 3",
   "language": "python",
   "name": "python3"
  },
  "language_info": {
   "codemirror_mode": {
    "name": "ipython",
    "version": 3
   },
   "file_extension": ".py",
   "mimetype": "text/x-python",
   "name": "python",
   "nbconvert_exporter": "python",
   "pygments_lexer": "ipython3",
   "version": "3.7.3"
  }
 },
 "nbformat": 4,
 "nbformat_minor": 2
}
