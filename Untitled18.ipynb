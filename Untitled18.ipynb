{
 "cells": [
  {
   "cell_type": "code",
   "execution_count": 14,
   "metadata": {},
   "outputs": [],
   "source": [
    "def ask_for_int():\n",
    "    \n",
    "    while True:\n",
    "        try:\n",
    "            result = int(input(\"Please provide any integer: \"))\n",
    "        except:\n",
    "            print(\"Whoops! Thats not a number\")\n",
    "            continue\n",
    "        else:\n",
    "            print(\"yes Thank you\")\n",
    "            break\n",
    "        finally:\n",
    "            print(\"I always run\")"
   ]
  },
  {
   "cell_type": "code",
   "execution_count": 15,
   "metadata": {},
   "outputs": [
    {
     "name": "stdout",
     "output_type": "stream",
     "text": [
      "Please provide any integer: 10\n",
      "yes Thank you\n",
      "I always run\n"
     ]
    }
   ],
   "source": [
    "ask_for_int()"
   ]
  },
  {
   "cell_type": "code",
   "execution_count": 16,
   "metadata": {},
   "outputs": [
    {
     "name": "stdout",
     "output_type": "stream",
     "text": [
      "Please provide any integer: word\n",
      "Whoops! Thats not a number\n",
      "I always run\n",
      "Please provide any integer: shift\n",
      "Whoops! Thats not a number\n",
      "I always run\n",
      "Please provide any integer: thunder\n",
      "Whoops! Thats not a number\n",
      "I always run\n",
      "Please provide any integer: 10\n",
      "yes Thank you\n",
      "I always run\n"
     ]
    }
   ],
   "source": [
    "ask_for_int()"
   ]
  },
  {
   "cell_type": "code",
   "execution_count": null,
   "metadata": {},
   "outputs": [],
   "source": []
  }
 ],
 "metadata": {
  "kernelspec": {
   "display_name": "Python 3",
   "language": "python",
   "name": "python3"
  },
  "language_info": {
   "codemirror_mode": {
    "name": "ipython",
    "version": 3
   },
   "file_extension": ".py",
   "mimetype": "text/x-python",
   "name": "python",
   "nbconvert_exporter": "python",
   "pygments_lexer": "ipython3",
   "version": "3.7.3"
  }
 },
 "nbformat": 4,
 "nbformat_minor": 2
}
